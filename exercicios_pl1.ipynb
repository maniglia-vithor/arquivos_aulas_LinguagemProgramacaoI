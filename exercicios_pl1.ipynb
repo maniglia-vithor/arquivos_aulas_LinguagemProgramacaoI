{
  "nbformat": 4,
  "nbformat_minor": 0,
  "metadata": {
    "colab": {
      "provenance": [],
      "collapsed_sections": [
        "w-zgmn2pZQJ_",
        "bRC0u7YoBnhs",
        "-Rzi63TYmUk_",
        "DGvAo1EvYIim",
        "YKkkL_tzX6oG",
        "Omxv7F1pq_dj",
        "rGr4U08TsBxh",
        "NWruOFZmsgmo",
        "Vs1Ql1BSwQAk",
        "xpkKmoGowd_j",
        "nzg5ErPRC_Bf",
        "fIKag4j6DSGM",
        "tMdD5HyQEbJO",
        "15vBO3DkWXWG",
        "inMLmieSWeBO",
        "KrJytJK3Wq6x",
        "KseIO8QVW_Fm",
        "BllRe1hzXIsG",
        "wpsgrmZVXQoe",
        "yIwV3ocGsetw"
      ],
      "toc_visible": true,
      "authorship_tag": "ABX9TyNewhKzoPB30YiaTA238cxR",
      "include_colab_link": true
    },
    "kernelspec": {
      "name": "python3",
      "display_name": "Python 3"
    },
    "language_info": {
      "name": "python"
    }
  },
  "cells": [
    {
      "cell_type": "markdown",
      "metadata": {
        "id": "view-in-github",
        "colab_type": "text"
      },
      "source": [
        "<a href=\"https://colab.research.google.com/github/maniglia-vithor/arquivos_aulas_LinguagemProgramacaoI/blob/main/exercicios_pl1.ipynb\" target=\"_parent\"><img src=\"https://colab.research.google.com/assets/colab-badge.svg\" alt=\"Open In Colab\"/></a>"
      ]
    },
    {
      "cell_type": "markdown",
      "source": [
        "## Exercício 1 - Um Bom Programa Inicial\n",
        "O primeiro passo para usar linhas de código em alguma linguagem (saída de dados)"
      ],
      "metadata": {
        "id": "fRl8IPpja9jP"
      }
    },
    {
      "cell_type": "code",
      "execution_count": null,
      "metadata": {
        "colab": {
          "base_uri": "https://localhost:8080/"
        },
        "id": "M1JedgyGaxlh",
        "outputId": "fae1d20b-6aa4-4632-f9e3-3e71b6757401"
      },
      "outputs": [
        {
          "output_type": "stream",
          "name": "stdout",
          "text": [
            "Olá Mundo!\n",
            "Olá de novo!\n",
            "Eu gosto de digitar isso.\n",
            "Oba! Escrevendo.\n",
            "Eu realmente gostaria que você nao fizesse isso\n",
            "Eu falei pra você não tocar isso\n"
          ]
        }
      ],
      "source": [
        "print(\"Olá Mundo!\")\n",
        "print(\"Olá de novo!\")\n",
        "\n",
        "print(\"Eu gosto de digitar isso.\")\n",
        "print(\"Oba! Escrevendo.\")\n",
        "\n",
        "print(\"Eu realmente gostaria que você nao fizesse isso\")\n",
        "print(\"Eu falei pra você não tocar isso\")\n",
        "# Os códigos deste exercício printam/imprimem/escrevem códigos. É a função mais básica de python, apenas um output de caracteres."
      ]
    },
    {
      "cell_type": "markdown",
      "source": [
        "# Exercicio 2 - Comentários e Cerquilhas"
      ],
      "metadata": {
        "id": "7RskPx30Yiwm"
      }
    },
    {
      "cell_type": "code",
      "source": [
        "#Um comentário assim você pode ler mais tarde\n",
        "print(\"I could have code like this.\") #e o comentário assim\n",
        "#print(\"This won't run.\")\n",
        "print(\"This will run.\")\n",
        "# Esses códigos ensinam a comentar (exatamente da maneira que estou fazendo agora =D)"
      ],
      "metadata": {
        "id": "fCRXNAk9cr9J"
      },
      "execution_count": null,
      "outputs": []
    },
    {
      "cell_type": "markdown",
      "source": [
        "# Exercício 3 - Números e Matemática"
      ],
      "metadata": {
        "id": "w-zgmn2pZQJ_"
      }
    },
    {
      "cell_type": "code",
      "source": [
        "print(\"I will now count my chickens:\")\n",
        "print(\"Hens\", 25 + 30 / 6)\n",
        "print(\"Roosters\", 100 - 25 * 3 % 4)\n",
        "print(\"Now I will count the eggs:\")\n",
        "print(3 + 2 + 1 - 5 + 4 % 2 - 1 / 4 + 6)\n",
        "print(\"Is it true that 3 + 2 < 5 - 7?\")\n",
        "print(3 + 2 < 5 - 7)\n",
        "print(\"What is 3 + 2?\", 3 + 2)\n",
        "print(\"What is 5 - 7?\", 5 - 7)\n",
        "print(\"Oh, that's why it's False.\")\n",
        "print(\"How about some more.\")\n",
        "\n",
        "print(\"Is it greater?\", 5 > -2)\n",
        "print(\"Is it greater or equal?\", 5 >= -2)\n",
        "print(\"Is it less or equal?\", 5 <= -2)\n",
        "\n",
        "# Este código introduz algumas operações matemáticas e seus respectivos operadores, sendo: \"+\" para soma, \"-\" para subtração, \"*\" para multiplicação, \"/\" para divisão, \"%\" para resto e \"**\" para exponenciação. (além de alguns operadores lógicos também)"
      ],
      "metadata": {
        "colab": {
          "base_uri": "https://localhost:8080/"
        },
        "id": "3OnhE1mbdAzE",
        "outputId": "3212b795-2faa-4eac-cd61-df459ef69b95"
      },
      "execution_count": null,
      "outputs": [
        {
          "output_type": "stream",
          "name": "stdout",
          "text": [
            "I will now count my chickens:\n",
            "Hens 30.0\n",
            "Roosters 97\n",
            "Now I will count the eggs:\n",
            "6.75\n",
            "Is it true that 3 + 2 < 5 - 7?\n",
            "False\n",
            "What is 3 + 2? 5\n",
            "What is 5 - 7? -2\n",
            "Oh, that's why it's False.\n",
            "How about some more.\n",
            "Is it greater? True\n",
            "Is it greater or equal? True\n",
            "Is it less or equal? False\n"
          ]
        }
      ]
    },
    {
      "cell_type": "markdown",
      "source": [
        "# Exercício 4 - Variáveis e nomes"
      ],
      "metadata": {
        "id": "-0cjJyzhZjc4"
      }
    },
    {
      "cell_type": "code",
      "source": [
        "cars = 100  # atribuindo um número inteiro\n",
        "space_in_a_car = 4.0  # atribuindo um número real\n",
        "drivers = 30  # atribuindo um número inteiro\n",
        "passengers = 90  # atribuindo um número inteiro\n",
        "cars_not_driven = cars - drivers  # operação aritmética entre inteiro e inteiro\n",
        "cars_driven = drivers  # atribuição de valor entre variáveis sem operação\n",
        "carpool_capacity = cars_driven * space_in_a_car  # atribuindo o resultado de uma operação aritmética entre inteiro e real\n",
        "average_passengers_per_car = passengers / cars_driven  # atribuindo o resultado de uma operação aritmética entre inteiro e inteiro\n",
        "\n",
        "print(\"There are\", cars, \"cars available.\")\n",
        "print(\"There are only\", drivers, \"drivers available.\")\n",
        "print(\"There will be\", cars_not_driven, \"empty cars today.\")\n",
        "print(\"We can transport\", carpool_capacity, \"people today.\")\n",
        "print(\"We have\", passengers, \"to carpool today.\")\n",
        "print(\"We need to put about\", average_passengers_per_car, \"in each car.\")\n",
        "print(10/5)\n",
        "\n",
        "# Este código basicamente atribui valores à algumas variáveis e depois realiza um cálculo básico"
      ],
      "metadata": {
        "id": "3uFzdTOedLln",
        "outputId": "6886a5d7-101b-4b22-e2f0-01a812e1c944",
        "colab": {
          "base_uri": "https://localhost:8080/"
        }
      },
      "execution_count": 1,
      "outputs": [
        {
          "output_type": "stream",
          "name": "stdout",
          "text": [
            "There are 100 cars available.\n",
            "There are only 30 drivers available.\n",
            "There will be 70 empty cars today.\n",
            "We can transport 120.0 people today.\n",
            "We have 90 to carpool today.\n",
            "We need to put about 3.0 in each car.\n",
            "2.0\n"
          ]
        }
      ]
    },
    {
      "cell_type": "markdown",
      "source": [
        "#Exercício 5 - Mais variáveis e impressão\n",
        "Concatenação de variáveis mais texto, uma forma de usar a saida de dados com variáveis;"
      ],
      "metadata": {
        "id": "bRC0u7YoBnhs"
      }
    },
    {
      "cell_type": "code",
      "source": [
        "Name = 'Zed A Shaw'\n",
        "Age = 32\n",
        "Height = 74\n",
        "Weight = 180\n",
        "Eyes = 'Blue'\n",
        "Teeth = 'White'\n",
        "Hair = 'Brown'\n",
        "print(f\"Let's talk about {Name}.\")\n",
        "print(f\"He's {Height} inches tall.\")\n",
        "print(f\"He's {Weight} pounds heavy.\")\n",
        "print(\"Actually that's not too heavy.\")\n",
        "print(f\"He's got {Eyes} eyes and {Hair} hair.\")\n",
        "print(f\"His teeth are usually {Teeth} depending on the coffee.\")\n",
        "total = Age + Height + Weight\n",
        "print(f\"If I add {Age}, {Height}, and {Weight} I get {total}.\")\n",
        "\n",
        "# Este código junta variáveis com a função print, concatenando-os em uma única linha de código. Show!"
      ],
      "metadata": {
        "colab": {
          "base_uri": "https://localhost:8080/"
        },
        "id": "2uh08nwddPHD",
        "outputId": "7c3d4ff6-b039-41f9-ffe4-38e2f83ca6cb"
      },
      "execution_count": null,
      "outputs": [
        {
          "output_type": "stream",
          "name": "stdout",
          "text": [
            "Let's talk about Zed A Shaw.\n",
            "He's 74 inches tall.\n",
            "He's 180 pounds heavy.\n",
            "Actually that's not too heavy.\n",
            "He's got Blue eyes and Brown hair.\n",
            "His teeth are usually White depending on the coffee.\n",
            "If I add 32, 74, and 180 I get 286.\n"
          ]
        }
      ]
    },
    {
      "cell_type": "markdown",
      "source": [
        "#Exercício 6 - Strings e texto\n",
        "Algumas variáveis, um pouco complexas um pouco de trabalho com Strings dentro de Strings"
      ],
      "metadata": {
        "id": "-Rzi63TYmUk_"
      }
    },
    {
      "cell_type": "code",
      "source": [
        "type_of_people = 10\n",
        "x =  f\"There are {type_of_people} types of people.\"\n",
        "binary = \"binary\"\n",
        "do_not = \"don't\"\n",
        "y = f\"Those who know {binary} and those who {do_not}.\"\n",
        "print(x)\n",
        "print(y)\n",
        "print(f\"I said: {x}\")\n",
        "print(f\"I also said: '{y}'\")\n",
        "hilarious = False\n",
        "joke_evaluation = \"Isn't that joke so funny?! {}\"\n",
        "print(joke_evaluation.format(hilarious))\n",
        "w = \"This is the left side of...\"\n",
        "e = \"a string with a right side.\"\n",
        "print(w + e)\n",
        "\n",
        "# Este código, semelhante ao anterior, faz a mesma coisa, mas dessa vez atribuindo strings em strings."
      ],
      "metadata": {
        "colab": {
          "base_uri": "https://localhost:8080/"
        },
        "id": "h4UqquyddVRa",
        "outputId": "58afd84c-c23a-4202-a8f6-647319641652"
      },
      "execution_count": null,
      "outputs": [
        {
          "output_type": "stream",
          "name": "stdout",
          "text": [
            "There are 10 types of people.\n",
            "Those who know binary and those who don't.\n",
            "I said: There are 10 types of people.\n",
            "I also said: 'Those who know binary and those who don't.'\n",
            "Isn't that joke so funny?! False\n",
            "This is the left side of...a string with a right side.\n"
          ]
        }
      ]
    },
    {
      "cell_type": "markdown",
      "source": [
        "# Exercício 7 - Mais impressão Apenas para praticar a digitação e alguns conceitos sobre impressão de strings"
      ],
      "metadata": {
        "id": "DGvAo1EvYIim"
      }
    },
    {
      "cell_type": "code",
      "source": [
        "print(\"Mary had a little lamb.\")\n",
        "print(\"Its fleece was white as {}.\".format('snow'))\n",
        "print(\"And everywhere that Mary went.\")\n",
        "print(\".\"*10)\n",
        "\n",
        "end1=\"C\"\n",
        "end2=\"h\"\n",
        "end3=\"e\"\n",
        "end4=\"e\"\n",
        "end5=\"s\"\n",
        "end6=\"e\"\n",
        "end7=\"B\"\n",
        "end8=\"u\"\n",
        "end9=\"r\"\n",
        "end10=\"g\"\n",
        "end11=\"e\"\n",
        "end12=\"r\"\n",
        "\n",
        "print(end1 + end2 + end3 + end4 + end5 + end6, end=' ')\n",
        "print(end7 + end8 + end9 + end10 + end11 + end12)\n",
        "\n",
        "# Este código introduz a função \".format\" que formata o(s) valor(es) especificado(s) e os insere dentro do espaço reservado da string."
      ],
      "metadata": {
        "colab": {
          "base_uri": "https://localhost:8080/"
        },
        "id": "_EFwnIvXdeXU",
        "outputId": "83240171-2461-40a7-9401-29c01f8826c8"
      },
      "execution_count": null,
      "outputs": [
        {
          "output_type": "stream",
          "name": "stdout",
          "text": [
            "Mary had a little lamb.\n",
            "Its fleece was white as snow.\n",
            "And everywhere that Mary went.\n",
            "..........\n",
            "Cheese Burger\n"
          ]
        }
      ]
    },
    {
      "cell_type": "markdown",
      "source": [
        "# Exercício 8 - Imprimindo, imprimindo Formatação de strings de forma mais complexa"
      ],
      "metadata": {
        "id": "YKkkL_tzX6oG"
      }
    },
    {
      "cell_type": "code",
      "source": [
        "formatter = \"{} {} {} {}\"\n",
        "print(formatter.format(1, 2, 3, 4))\n",
        "print(formatter.format(\"one\", \"two\", \"three\", \"four\"))\n",
        "print(formatter.format(True, False, False, True))\n",
        "print(formatter.format(formatter, formatter, formatter, formatter))\n",
        "print(formatter.format(\n",
        "\"Try your\",\n",
        "\"Own text here\",\n",
        "\"Maybe a poem\",\n",
        "\"Or a song about fear\"\n",
        "))\n",
        "\n",
        "# Mais uma aplicação de \".format\""
      ],
      "metadata": {
        "collapsed": true,
        "colab": {
          "base_uri": "https://localhost:8080/"
        },
        "id": "TK8mD8w8di1e",
        "outputId": "1d77d5c8-85d0-44b0-87ad-3030facd1d7e"
      },
      "execution_count": null,
      "outputs": [
        {
          "output_type": "stream",
          "name": "stdout",
          "text": [
            "1 2 3 4\n",
            "one two three four\n",
            "True False False True\n",
            "{} {} {} {} {} {} {} {} {} {} {} {} {} {} {} {}\n",
            "Try your Own text here Maybe a poem Or a song about fear\n"
          ]
        }
      ]
    },
    {
      "cell_type": "markdown",
      "source": [
        "# Exercício 9 -Imprimindo, imprimindo, imprimindo"
      ],
      "metadata": {
        "id": "Omxv7F1pq_dj"
      }
    },
    {
      "cell_type": "code",
      "source": [
        "days = \"Mon Tue Wed Thu Fri Sat Sun\"\n",
        "months = 'Jan\\nFeb\\nMar\\nApr\\nMay\\nJun\\nJul\\nAug'\n",
        "print(\"Here are the days: \", days)\n",
        "print(\"Here are the months: \", months)\n",
        "print(\"\"\"\n",
        "There is something going on here.\n",
        "With the three double-quotes.\n",
        "We'll be able to type as much as we like.\n",
        "Even 4 lines if we want, or 5, or 6.\n",
        "\"\"\")\n",
        "\n",
        "# Print de mucho texto"
      ],
      "metadata": {
        "collapsed": true,
        "colab": {
          "base_uri": "https://localhost:8080/"
        },
        "id": "e2UKJzpEdqh7",
        "outputId": "da222d68-8782-41b9-8b2a-82c408997d65"
      },
      "execution_count": null,
      "outputs": [
        {
          "output_type": "stream",
          "name": "stdout",
          "text": [
            "Here are the days:  Mon Tue Wed Thu Fri Sat Sun\n",
            "Here are the months:  Jan\n",
            "Feb\n",
            "Mar\n",
            "Apr\n",
            "May\n",
            "Jun\n",
            "Jul\n",
            "Aug\n",
            "\n",
            "There is something going on here.\n",
            "With the three double-quotes.\n",
            "We'll be able to type as much as we like.\n",
            "Even 4 lines if we want, or 5, or 6.\n",
            "\n"
          ]
        }
      ]
    },
    {
      "cell_type": "markdown",
      "source": [
        "# Exercício 10 - O que foi isso?"
      ],
      "metadata": {
        "id": "rGr4U08TsBxh"
      }
    },
    {
      "cell_type": "code",
      "source": [
        "tabby_cat = \"\\tI'm tabbed in.\"\n",
        "persian_cat = \"Im split\\non a line.\"\n",
        "backslash_cat = \"I'm \\\\ a \\\\ cat.\"\n",
        "fat_cat = \"\"\"\n",
        "I'll do a list:\n",
        "\\t* Cat food\n",
        "\\t* Fishies\n",
        "\\t* Catnip\\n\\t* Grass\n",
        "\"\"\"\n",
        "print(tabby_cat)\n",
        "print(persian_cat)\n",
        "print(backslash_cat)\n",
        "print(fat_cat)\n",
        "\n",
        "# Este código introduz alguns tipos de formatação para personalização de texto."
      ],
      "metadata": {
        "id": "Hpsk2_SksKsY",
        "colab": {
          "base_uri": "https://localhost:8080/"
        },
        "outputId": "16e14245-60e8-4311-97d1-6741944aeada"
      },
      "execution_count": null,
      "outputs": [
        {
          "output_type": "stream",
          "name": "stdout",
          "text": [
            "\tI'm tabbed in.\n",
            "Im split\n",
            "on a line.\n",
            "I'm \\ a \\ cat.\n",
            "\n",
            "I'll do a list:\n",
            "\t* Cat food\n",
            "\t* Fishies\n",
            "\t* Catnip\n",
            "\t* Grass\n",
            "\n"
          ]
        }
      ]
    },
    {
      "cell_type": "markdown",
      "source": [
        "# Exercício 11 -  Fazendo perguntas"
      ],
      "metadata": {
        "id": "NWruOFZmsgmo"
      }
    },
    {
      "cell_type": "code",
      "source": [
        "print(\"How old are you?\", end=' ')\n",
        "age = input()\n",
        "print(\"How tall are you?\", end=' ')\n",
        "height = input()\n",
        "print(\"How much do you weigh?\", end=' ')\n",
        "weight = input()\n",
        "\n",
        "print(f\"So, you're {age}old, {height} tall and {weight} heavy.\")\n",
        "\n",
        "# Esse código introduz a função \"input\", que permite a inserção de dados de um usuário."
      ],
      "metadata": {
        "id": "vc11c5XksnCw",
        "colab": {
          "base_uri": "https://localhost:8080/"
        },
        "outputId": "ad137628-f3de-406c-9553-41e6ed9301e3"
      },
      "execution_count": null,
      "outputs": [
        {
          "output_type": "stream",
          "name": "stdout",
          "text": [
            "How old are you? 19\n",
            "How tall are you? 178\n",
            "How much do you weigh? 65\n",
            "So, you're 19old, 178 tall and 65 heavy.\n"
          ]
        }
      ]
    },
    {
      "cell_type": "markdown",
      "source": [
        "# Exercício 12 - Perguntando as pessoas"
      ],
      "metadata": {
        "id": "Vs1Ql1BSwQAk"
      }
    },
    {
      "cell_type": "code",
      "source": [
        "age=input(\"How old are you? \")\n",
        "height=input(\"How tall are you? \")\n",
        "weight=input(\"How much do you weigh? \")\n",
        "print(f\"So, you're {age} old, {height} tall and {weight} heavy.\")\n",
        "\n",
        "# Este código é só mais uma aplicação da função \"input\"."
      ],
      "metadata": {
        "id": "QD3WbHJhwWb7",
        "colab": {
          "base_uri": "https://localhost:8080/"
        },
        "outputId": "3f277e67-1ee8-41f2-b5d5-0aa9bff65f45"
      },
      "execution_count": 2,
      "outputs": [
        {
          "output_type": "stream",
          "name": "stdout",
          "text": [
            "How old are you? 19\n",
            "How tall are you? 178\n",
            "How much do you weigh? 65\n",
            "So, you're 19 old, 178 tall and 65 heavy.\n"
          ]
        }
      ]
    },
    {
      "cell_type": "markdown",
      "source": [
        "# Exercício 13 - Instrução IF"
      ],
      "metadata": {
        "id": "xpkKmoGowd_j"
      }
    },
    {
      "cell_type": "code",
      "source": [
        "people = 20\n",
        "cats = 30\n",
        "dogs = 15\n",
        "if people < cats:\n",
        "    print(\"Too many cats! The world is doomed!\")\n",
        "if people > cats:\n",
        "    print(\"Not many cats! The world is saved!\")\n",
        "if people<dogs:\n",
        "  print(\"The world is drooled on!\")\n",
        "if people>dogs:\n",
        "  print(\"The world is dry!\")\n",
        "dogs += 5\n",
        "if people >= dogs:\n",
        "  print(\"People are greater than or equal to dogs.\")\n",
        "if people <= dogs:\n",
        "  print(\"People are less than or equal to dogs.\")\n",
        "if people == dogs:\n",
        "  print(\"People are dogs.\")\n",
        "\n",
        "# Este código introduz a função \"if\" que basicamente retorna um valor caso uma condição seja satisfeita, ou não. Pessoas são cachorros."
      ],
      "metadata": {
        "colab": {
          "base_uri": "https://localhost:8080/"
        },
        "id": "OodeLowiwm1b",
        "outputId": "8b226d2c-b7e1-402d-ba9a-ce4c370385a2"
      },
      "execution_count": null,
      "outputs": [
        {
          "output_type": "stream",
          "name": "stdout",
          "text": [
            "Too many cats! The world is doomed!\n",
            "The world is dry!\n",
            "People are greater than or equal to dogs.\n",
            "People are less than or equal to dogs.\n",
            "People are dogs.\n"
          ]
        }
      ]
    },
    {
      "cell_type": "markdown",
      "source": [
        "# Exercicio 14 - Else e IF"
      ],
      "metadata": {
        "id": "nzg5ErPRC_Bf"
      }
    },
    {
      "cell_type": "code",
      "source": [
        "people =30\n",
        "cars = 40\n",
        "trucks = 15\n",
        "if cars > people:\n",
        "    print(\"We should take the cars.\")\n",
        "elif cars < people:\n",
        "    print(\"We should not take the cars.\")\n",
        "else:\n",
        "    print(\"We can't decide.\")\n",
        "if trucks > crs:\n",
        "    print(\"That's too many trucks.\")\n",
        "elif trucks < cars:\n",
        "    print(\"Maybe we could take the trucks.\")\n",
        "else:\n",
        "    print(\"We still can't decide.\")\n",
        "if people > trucks:\n",
        "    print(\"Alright, let's just take the trucks.\")\n",
        "else:\n",
        "    print(\"Fine, let's stay home then.\")\n",
        "\n",
        "# Este código introduz algumas variações da função \"if\" como o \"else\" ou o \"elif\". Pessoas são caminhões."
      ],
      "metadata": {
        "id": "8BT-ZfwW3fFM"
      },
      "execution_count": null,
      "outputs": []
    },
    {
      "cell_type": "markdown",
      "source": [
        "# Exercício 15 - Tomando Decisões"
      ],
      "metadata": {
        "id": "fIKag4j6DSGM"
      }
    },
    {
      "cell_type": "code",
      "source": [
        "print(\"\"\"You enter a dark room with two doors.\n",
        "do you go through door #1 or door #2?\"\"\")\n",
        "door = input(\"> \")\n",
        "if door == \"1\":\n",
        "  print(\"there's a giant bear here eating a cheese cake.\")\n",
        "  print(\"what do you do?\")\n",
        "  print(\"1. Take the cake.\")\n",
        "  print(\"2. Scream at the bear.\")\n",
        "  bear = input(\"> \")\n",
        "\n",
        "if bear == \"1\":\n",
        "    print(\"The bear eats your face off. Good job!\")\n",
        "elif bear == \"2\":\n",
        "    print(\"The bear eats your legs off. Good job!\")\n",
        "else:\n",
        "    print(f\"Well, doing {bear} is probably better.\")\n",
        "    print(\"Bear runs away.\")\n",
        "    elif door == \"2\":\n",
        "    print(\"You stare into the endless abyss at Cthulhu's retina.\")\n",
        "    print(\"1. Blueberries.\")\n",
        "    print(\"2. Yellow jacket clothespins.\")\n",
        "    print(\"3. Understanding revolvers yelling melodies.\")\n",
        "    insanity = input(\"> \")\n",
        "    if insanity == \"1\" or insanity == \"2\":\n",
        "      print(\"Your body survives powered by a mind of jello.\")\n",
        "      print(\"Good job!\")\n",
        "    else:\n",
        "      print(\"The insanity rots your eyes into a pool of muck.\")\n",
        "      print(\"Good job!\")\n",
        "    else:\n",
        "     print(\"You stumble around and fall on a knife and die. Good job!\")\n",
        "\n",
        "# Honestamente, não sei dizer o que houve de errado com esse código. Na linha 13 ele aceitou \"elif\" normalmente, mas na 18 não. D="
      ],
      "metadata": {
        "colab": {
          "base_uri": "https://localhost:8080/",
          "height": 108
        },
        "id": "hR9sHLzT4NrT",
        "outputId": "e4cd42eb-7329-475e-a173-d471663d44ba"
      },
      "execution_count": 4,
      "outputs": [
        {
          "output_type": "error",
          "ename": "IndentationError",
          "evalue": "unindent does not match any outer indentation level (<tokenize>, line 18)",
          "traceback": [
            "\u001b[0;36m  File \u001b[0;32m\"<tokenize>\"\u001b[0;36m, line \u001b[0;32m18\u001b[0m\n\u001b[0;31m    elif door == \"2\":\u001b[0m\n\u001b[0m    ^\u001b[0m\n\u001b[0;31mIndentationError\u001b[0m\u001b[0;31m:\u001b[0m unindent does not match any outer indentation level\n"
          ]
        }
      ]
    },
    {
      "cell_type": "markdown",
      "source": [
        "# Exercício 16 - Loops e Listas"
      ],
      "metadata": {
        "id": "tMdD5HyQEbJO"
      }
    },
    {
      "cell_type": "code",
      "source": [
        "the_count = [1,2,3,4,5]\n",
        "fruits = ['apples', 'oranges', 'pears', 'apricots']\n",
        "change = [1, 'pennies', 2, 'dimes', 3, 'quarters']\n",
        "for number in the_count:\n",
        "  print(f\"This is count {number}\")\n",
        "for fruit in fruits:\n",
        "  print(f\"A fruit of type: {fruit}\")\n",
        "for i in change:\n",
        "  print(f\"I got {i}\")\n",
        "elements = []\n",
        "for i in range(0,6):\n",
        "  print(f\"Adding {i} to the list.\")\n",
        "  elements.append(i)\n",
        "for i in elements:\n",
        "  print(f\"Element was: {i}\")\n",
        "\n",
        "# Este código introduz o conceito de \"Listas\" e \"Loops\""
      ],
      "metadata": {
        "collapsed": true,
        "id": "IrY2vwbe4lX7",
        "colab": {
          "base_uri": "https://localhost:8080/"
        },
        "outputId": "66fd6c82-df1c-4a53-9c1f-66fe6d34b697"
      },
      "execution_count": null,
      "outputs": [
        {
          "output_type": "stream",
          "name": "stdout",
          "text": [
            "This is count 1\n",
            "This is count 2\n",
            "This is count 3\n",
            "This is count 4\n",
            "This is count 5\n",
            "A fruit of type: apples\n",
            "A fruit of type: oranges\n",
            "A fruit of type: pears\n",
            "A fruit of type: apricots\n",
            "I got 1\n",
            "I got pennies\n",
            "I got 2\n",
            "I got dimes\n",
            "I got 3\n",
            "I got quarters\n",
            "Adding 0 to the list.\n",
            "Adding 1 to the list.\n",
            "Adding 2 to the list.\n",
            "Adding 3 to the list.\n",
            "Adding 4 to the list.\n",
            "Adding 5 to the list.\n",
            "Element was: 0\n",
            "Element was: 1\n",
            "Element was: 2\n",
            "Element was: 3\n",
            "Element was: 4\n",
            "Element was: 5\n"
          ]
        }
      ]
    },
    {
      "cell_type": "markdown",
      "source": [
        "#Exercício 17 - Loops While"
      ],
      "metadata": {
        "id": "15vBO3DkWXWG"
      }
    },
    {
      "cell_type": "code",
      "source": [
        "i=0\n",
        "numbers = []\n",
        "while i<6:\n",
        "  print(f\"At the top i is{i}\")\n",
        "  numbers.append(i)\n",
        "  i=i+1\n",
        "  print(\"Numbers now: \", numbers)\n",
        "  print(f\"At the bottom i is {i}\")\n",
        "print(\"The numbers: \")\n",
        "for num in numbers:\n",
        "  print(num)\n",
        "\n",
        "# Este código introduz a função \"While\", que é basicamente uma delimitação de tempo para qual um loop irá loopar(?)."
      ],
      "metadata": {
        "id": "yMTZuHo9_McL",
        "colab": {
          "base_uri": "https://localhost:8080/"
        },
        "outputId": "d613d770-ce78-4bea-84d1-2c393a73f35a"
      },
      "execution_count": null,
      "outputs": [
        {
          "output_type": "stream",
          "name": "stdout",
          "text": [
            "At the top i is0\n",
            "Numbers now:  [0]\n",
            "At the bottom i is 1\n",
            "At the top i is1\n",
            "Numbers now:  [0, 1]\n",
            "At the bottom i is 2\n",
            "At the top i is2\n",
            "Numbers now:  [0, 1, 2]\n",
            "At the bottom i is 3\n",
            "At the top i is3\n",
            "Numbers now:  [0, 1, 2, 3]\n",
            "At the bottom i is 4\n",
            "At the top i is4\n",
            "Numbers now:  [0, 1, 2, 3, 4]\n",
            "At the bottom i is 5\n",
            "At the top i is5\n",
            "Numbers now:  [0, 1, 2, 3, 4, 5]\n",
            "At the bottom i is 6\n",
            "The numbers: \n",
            "0\n",
            "1\n",
            "2\n",
            "3\n",
            "4\n",
            "5\n"
          ]
        }
      ]
    },
    {
      "cell_type": "markdown",
      "source": [
        "# Exercício 18 - Nomes, Variáveis, Códigos, Funções"
      ],
      "metadata": {
        "id": "inMLmieSWeBO"
      }
    },
    {
      "cell_type": "code",
      "source": [
        "def print_two(*args):\n",
        "  arg1, arg2 = args\n",
        "  print(f\"arg1: {arg1}, arg2: {arg2}\")\n",
        "def print_two_again(arg1, arg2):\n",
        "  print(f\"arg1: {arg1}, arg2: {arg2}\")\n",
        "def print_one(arg1):\n",
        "  print(f\"arg1: {arg1}\")\n",
        "def print_none():\n",
        "  print(\"I got nothin'.\")\n",
        "print_two(\"Zed\", \"Shaw\")\n",
        "print_two_again(\"Zed\", \"Shaw\")\n",
        "print_one(\"First!\")\n",
        "print_none()\n",
        "\n",
        "# Este código introduz o conceito de \"def\", que funciona para \"criar\" funções/atribuir atividades a variáveis."
      ],
      "metadata": {
        "id": "JRzz2apgCkBP",
        "colab": {
          "base_uri": "https://localhost:8080/"
        },
        "outputId": "6dfc5744-d450-4942-ac4e-5c71375d10b6"
      },
      "execution_count": 5,
      "outputs": [
        {
          "output_type": "stream",
          "name": "stdout",
          "text": [
            "arg1: Zed, arg2: Shaw\n",
            "arg1: Zed, arg2: Shaw\n",
            "arg1: First!\n",
            "I got nothin'.\n"
          ]
        }
      ]
    },
    {
      "cell_type": "markdown",
      "source": [
        "# Exercício 19 - Funções e Variáveis"
      ],
      "metadata": {
        "id": "KrJytJK3Wq6x"
      }
    },
    {
      "cell_type": "code",
      "source": [
        "def cheese_and_crackers(cheese_count, boxes_of_crackers):\n",
        "  print(f\"You have {cheese_count} cheeses!\")\n",
        "  print(f\"You have {boxes_of_crackers} boxes of crackers!\")\n",
        "  print(\"Man that's enough for a party!\")\n",
        "  print(\"Get a blanket.\\n\")\n",
        "print(\"We can just give the function numbers directly:\")\n",
        "cheese_and_crackers(20,30)\n",
        "print(\"OR, we can use variables from our script:\")\n",
        "amount_of_cheese = 10\n",
        "amount_of_crackers = 50\n",
        "cheese_and_crackers(amount_of_cheese, amount_of_crackers)\n",
        "\n",
        "print(\"We can even do math inside too:\")\n",
        "cheese_and_crackers(10+20, 5+6)\n",
        "print(\"And we can combine the two, variables and math:\")\n",
        "cheese_and_crackers(amount_of_cheese + 100, amount_of_crackers + 1000)\n",
        "\n",
        "# Este código aplica o \"def\" junto a algumas outras variáveis também.\n"
      ],
      "metadata": {
        "id": "K7IHDzZ7DcYP",
        "colab": {
          "base_uri": "https://localhost:8080/"
        },
        "outputId": "f375488f-faae-47f6-fd6c-56486eda82df"
      },
      "execution_count": null,
      "outputs": [
        {
          "output_type": "stream",
          "name": "stdout",
          "text": [
            "We can just give the function numbers directly:\n",
            "You have 20 cheeses!\n",
            "You have 30 boxes of crackers!\n",
            "Man that's enough for a party!\n",
            "Get a blanket.\n",
            "\n",
            "OR, we can use variables from our script:\n",
            "You have 10 cheeses!\n",
            "You have 50 boxes of crackers!\n",
            "Man that's enough for a party!\n",
            "Get a blanket.\n",
            "\n",
            "We can even do math inside too:\n",
            "You have 30 cheeses!\n",
            "You have 11 boxes of crackers!\n",
            "Man that's enough for a party!\n",
            "Get a blanket.\n",
            "\n",
            "And we can combine the two, variables and math:\n",
            "You have 110 cheeses!\n",
            "You have 1050 boxes of crackers!\n",
            "Man that's enough for a party!\n",
            "Get a blanket.\n",
            "\n"
          ]
        }
      ]
    },
    {
      "cell_type": "markdown",
      "source": [
        "# Exercício 20 - As Funções podem retornar algo"
      ],
      "metadata": {
        "id": "KseIO8QVW_Fm"
      }
    },
    {
      "cell_type": "code",
      "source": [
        "def add(a,b):\n",
        "  print(f\"ADDING {a} + {b}\")\n",
        "  return a+b\n",
        "def subtract(a,b):\n",
        "  print(f\"SUBTRACTING {a}-{b}\")\n",
        "  return a-b\n",
        "def multiply(a,b):\n",
        "  print(f\"MULTIPLYING {a}*{b}\")\n",
        "  return a*b\n",
        "def divide(a,b):\n",
        "  print(f\"DIVIDING{a}/{b}\")\n",
        "  return a/b\n",
        "\n",
        "print(\"Let's do some math with just functions!\")\n",
        "age=add(30,5)\n",
        "height=subtract(78,4)\n",
        "weight=multiply(90,2)\n",
        "iq=divide(100,2)\n",
        "print(f\"Age: {age}, Height: {height}, Weight: {weight}, IQ: {iq}\")\n",
        "\n",
        "print(\"Here is the puzzle\")\n",
        "what=add(age, subtract(height, multiply(weight, divide(iq,2))))\n",
        "print(\"That becomes:\", what,\"Can you do it by hand?\")\n",
        "\n",
        "# Mais funções"
      ],
      "metadata": {
        "colab": {
          "base_uri": "https://localhost:8080/"
        },
        "id": "ow047KzKEmrV",
        "outputId": "a1227ddd-1df4-430b-dd00-2829cd537e56"
      },
      "execution_count": null,
      "outputs": [
        {
          "output_type": "stream",
          "name": "stdout",
          "text": [
            "Let's do some math with just functions!\n",
            "ADDING 30 + 5\n",
            "SUBTRACTING 78-4\n",
            "MULTIPLYING 90*2\n",
            "DIVIDING100/2\n",
            "Age: 35, Height: 74, Weight: 180, IQ: 50.0\n",
            "Here is the puzzle\n",
            "DIVIDING50.0/2\n",
            "MULTIPLYING 180*25.0\n",
            "SUBTRACTING 74-4500.0\n",
            "ADDING 35 + -4426.0\n",
            "That becomes: -4391.0 Can you do it by hand?\n"
          ]
        }
      ]
    },
    {
      "cell_type": "markdown",
      "source": [
        "#Exercício 21 - Parâmetros, Descompactação e Variáveis"
      ],
      "metadata": {
        "id": "BllRe1hzXIsG"
      }
    },
    {
      "cell_type": "code",
      "source": [
        "from sys import argv\n",
        "script, first, second, third = argv\n",
        "print(\"the script is called:\", script)\n",
        "print(\"your first variable is:\",first)\n",
        "print(\"your second variable is:\", second)\n",
        "print(\"your third variable is\", third)\n",
        "\n",
        "# Este código introduz a manipulação de arquivos"
      ],
      "metadata": {
        "id": "yXkHkAUmKgFe",
        "colab": {
          "base_uri": "https://localhost:8080/",
          "height": 211
        },
        "outputId": "7e7373ce-61a3-471e-935f-320e7f912876"
      },
      "execution_count": null,
      "outputs": [
        {
          "output_type": "error",
          "ename": "ValueError",
          "evalue": "not enough values to unpack (expected 4, got 3)",
          "traceback": [
            "\u001b[0;31m---------------------------------------------------------------------------\u001b[0m",
            "\u001b[0;31mValueError\u001b[0m                                Traceback (most recent call last)",
            "\u001b[0;32m<ipython-input-5-3e27a94d5899>\u001b[0m in \u001b[0;36m<cell line: 0>\u001b[0;34m()\u001b[0m\n\u001b[1;32m      1\u001b[0m \u001b[0;32mfrom\u001b[0m \u001b[0msys\u001b[0m \u001b[0;32mimport\u001b[0m \u001b[0margv\u001b[0m\u001b[0;34m\u001b[0m\u001b[0;34m\u001b[0m\u001b[0m\n\u001b[0;32m----> 2\u001b[0;31m \u001b[0mscript\u001b[0m\u001b[0;34m,\u001b[0m \u001b[0mfirst\u001b[0m\u001b[0;34m,\u001b[0m \u001b[0msecond\u001b[0m\u001b[0;34m,\u001b[0m \u001b[0mthird\u001b[0m \u001b[0;34m=\u001b[0m \u001b[0margv\u001b[0m\u001b[0;34m\u001b[0m\u001b[0;34m\u001b[0m\u001b[0m\n\u001b[0m\u001b[1;32m      3\u001b[0m \u001b[0mprint\u001b[0m\u001b[0;34m(\u001b[0m\u001b[0;34m\"the script is called:\"\u001b[0m\u001b[0;34m,\u001b[0m \u001b[0mscript\u001b[0m\u001b[0;34m)\u001b[0m\u001b[0;34m\u001b[0m\u001b[0;34m\u001b[0m\u001b[0m\n\u001b[1;32m      4\u001b[0m \u001b[0mprint\u001b[0m\u001b[0;34m(\u001b[0m\u001b[0;34m\"your first variable is:\"\u001b[0m\u001b[0;34m,\u001b[0m\u001b[0mfirst\u001b[0m\u001b[0;34m)\u001b[0m\u001b[0;34m\u001b[0m\u001b[0;34m\u001b[0m\u001b[0m\n\u001b[1;32m      5\u001b[0m \u001b[0mprint\u001b[0m\u001b[0;34m(\u001b[0m\u001b[0;34m\"your second variable is:\"\u001b[0m\u001b[0;34m,\u001b[0m \u001b[0msecond\u001b[0m\u001b[0;34m)\u001b[0m\u001b[0;34m\u001b[0m\u001b[0;34m\u001b[0m\u001b[0m\n",
            "\u001b[0;31mValueError\u001b[0m: not enough values to unpack (expected 4, got 3)"
          ]
        }
      ]
    },
    {
      "cell_type": "markdown",
      "source": [
        "# Exercício 22 - Parâmetros, Descompactação e Variáveis"
      ],
      "metadata": {
        "id": "wpsgrmZVXQoe"
      }
    },
    {
      "cell_type": "code",
      "source": [
        "from sys import argv\n",
        "script, user_name = argv\n",
        "prompt = '>'\n",
        "print(f\"hi {user_name} \")\n",
        "\n",
        "# Novamente, manipulando mais arquivos"
      ],
      "metadata": {
        "id": "BTWV9FdOqrIk",
        "colab": {
          "base_uri": "https://localhost:8080/",
          "height": 193
        },
        "outputId": "5f7eb78e-a668-4b8d-d46c-41dfee8a35a4"
      },
      "execution_count": null,
      "outputs": [
        {
          "output_type": "error",
          "ename": "ValueError",
          "evalue": "too many values to unpack (expected 2)",
          "traceback": [
            "\u001b[0;31m---------------------------------------------------------------------------\u001b[0m",
            "\u001b[0;31mValueError\u001b[0m                                Traceback (most recent call last)",
            "\u001b[0;32m<ipython-input-9-fce30f0dc1a2>\u001b[0m in \u001b[0;36m<cell line: 0>\u001b[0;34m()\u001b[0m\n\u001b[1;32m      1\u001b[0m \u001b[0;32mfrom\u001b[0m \u001b[0msys\u001b[0m \u001b[0;32mimport\u001b[0m \u001b[0margv\u001b[0m\u001b[0;34m\u001b[0m\u001b[0;34m\u001b[0m\u001b[0m\n\u001b[0;32m----> 2\u001b[0;31m \u001b[0mscript\u001b[0m\u001b[0;34m,\u001b[0m \u001b[0muser_name\u001b[0m \u001b[0;34m=\u001b[0m \u001b[0margv\u001b[0m\u001b[0;34m\u001b[0m\u001b[0;34m\u001b[0m\u001b[0m\n\u001b[0m\u001b[1;32m      3\u001b[0m \u001b[0mprompt\u001b[0m \u001b[0;34m=\u001b[0m \u001b[0;34m'>'\u001b[0m\u001b[0;34m\u001b[0m\u001b[0;34m\u001b[0m\u001b[0m\n\u001b[1;32m      4\u001b[0m \u001b[0mprint\u001b[0m\u001b[0;34m(\u001b[0m\u001b[0;34mf\"hi {user_name} \"\u001b[0m\u001b[0;34m)\u001b[0m\u001b[0;34m\u001b[0m\u001b[0;34m\u001b[0m\u001b[0m\n",
            "\u001b[0;31mValueError\u001b[0m: too many values to unpack (expected 2)"
          ]
        }
      ]
    },
    {
      "cell_type": "markdown",
      "source": [
        "# Exercício 23 - Lendo Arquivos"
      ],
      "metadata": {
        "id": "QmewOHJABxgo"
      }
    },
    {
      "cell_type": "code",
      "source": [
        "from sys import argv\n",
        "\n",
        "script, filename = argv\n",
        "txt = open(filename)\n",
        "print(f\"Here's your file {filename}:\")\n",
        "print(txt.read())\n",
        "\n",
        "print(\"Type the filename again:\")\n",
        "file_again = input(\">\")\n",
        "\n",
        "txt_again = open(file_again)\n",
        "\n",
        "print(txt_again.read())"
      ],
      "metadata": {
        "id": "hFzrIXNlDN38"
      },
      "execution_count": null,
      "outputs": []
    },
    {
      "cell_type": "markdown",
      "source": [
        "# Exercício 24 - Lendo e Gravando Arquivos"
      ],
      "metadata": {
        "id": "ET6h87DSDn-K"
      }
    },
    {
      "cell_type": "code",
      "source": [
        "from sys import argv\n",
        "\n",
        "script, filename = argv\n",
        "\n",
        "print(f\"We're going to erase {filename}.\")\n",
        "print(\"If you don't want that, hit CTRL-C (^C).\")\n",
        "print(\"If you do want that, hit RETURN.\")\n",
        "\n",
        "input(\"?\")\n",
        "\n",
        "print(\"Opening the file...\")\n",
        "target = open(filename, 'w')\n",
        "\n",
        "print(\"Truncating the file. Goodbye!\")\n",
        "target.truncate()\n",
        "\n",
        "print(\"Now I'm going to ask you for three lines.\")\n",
        "\n",
        "line1 = input(\"line 1: \")\n",
        "line2 = input(\"line 2: \")\n",
        "line3 = input(\"line 3: \")\n",
        "\n",
        "print(\"I'm going to write these to the file.\")\n",
        "\n",
        "target.write(line1)\n",
        "target.write(\"\\n\")\n",
        "target.write(line2)\n",
        "target.write(\"\\n\")\n",
        "target.write(line3)\n",
        "target.write(\"\\n\")\n",
        "\n",
        "print(\"And finally, we close it.\")\n",
        "target.close()"
      ],
      "metadata": {
        "id": "2BXaBi-lDuwT"
      },
      "execution_count": null,
      "outputs": []
    },
    {
      "cell_type": "markdown",
      "source": [
        "# Exercício 25 - Mais Arquivos"
      ],
      "metadata": {
        "id": "lw4l2D8KEnDM"
      }
    },
    {
      "cell_type": "code",
      "source": [
        "from sys import argv\n",
        "from os.path import exists\n",
        "\n",
        "script, from_file, to_file = argv\n",
        "\n",
        "print(f\"Copying from {from_file} to {to_file}\")\n",
        "\n",
        "# poderíamos fazer esses dois com uma linha, como?\n",
        "in_file = open(from_file)\n",
        "indata = in_file.read()\n",
        "\n",
        "print(f\"The input file is {len(indata)} bytes long\")\n",
        "\n",
        "print(f\"Does the output file exist? {exists(to_file)}\")\n",
        "print(\"Ready, hit RETURN to continue, CTRL-C to abort.\")\n",
        "input()\n",
        "\n",
        "out_file = open(to_file, 'w')\n",
        "out_file.write(indata)\n",
        "\n",
        "print(\"Alright, all done.\")\n",
        "\n",
        "out_file.close()\n",
        "in_file.close()"
      ],
      "metadata": {
        "id": "nQ9sEyLnEypM"
      },
      "execution_count": null,
      "outputs": []
    },
    {
      "cell_type": "markdown",
      "source": [
        "# Exercício 26 - Funções e Arquivos"
      ],
      "metadata": {
        "id": "CgVhhIYRFdvD"
      }
    },
    {
      "cell_type": "code",
      "source": [
        "# EXERCICIO 26 - Funções e Arquivos\n",
        "\n",
        "from sys import argv\n",
        "\n",
        "script, input_file = argv\n",
        "\n",
        "def print_all(f):\n",
        "    print(f.read())\n",
        "\n",
        "def rewind(f):\n",
        "    f.seek(0)\n",
        "\n",
        "def print_a_line(line_count, f):\n",
        "    print(line_count, f.readline())\n",
        "\n",
        "current_file = open(input_file)\n",
        "\n",
        "print(\"First let's print the whole file:\\n\")\n",
        "\n",
        "print_all(current_file)\n",
        "\n",
        "print(\"Now let's rewind, kind of like a tape.\")\n",
        "\n",
        "rewind(current_file)\n",
        "\n",
        "print(\"Let's print three lines:\")\n",
        "\n",
        "current_line = 1\n",
        "print_a_line(current_line, current_file)\n",
        "\n",
        "current_line = current_line + 1\n",
        "print_a_line(current_line, current_file)\n",
        "\n",
        "current_line = current_line + 1\n",
        "print_a_line(current_line, current_file)"
      ],
      "metadata": {
        "id": "Rv-z7PKfFk3j"
      },
      "execution_count": null,
      "outputs": []
    },
    {
      "cell_type": "markdown",
      "source": [
        "# Exercício 27 - Mais Prática"
      ],
      "metadata": {
        "id": "GTXIDhzeFmcI"
      }
    },
    {
      "cell_type": "code",
      "source": [
        "# EXERCICIO 27 - Mais prática\n",
        "\n",
        "print(\"Let's practice everything.\")\n",
        "print('You\\'d need to know \\'bout escapes with \\\\ that do:')\n",
        "print('\\n newlines and \\t tabs.')\n",
        "\n",
        "poem = \"\"\"\n",
        "\\tThe lovely world\n",
        "with logic so firmly planted\n",
        "cannot discern \\n the needs of love\n",
        "nor comprehend passion from intuition\n",
        "and requires an explanation\n",
        "\\n\\twhere there is none.\n",
        "\"\"\"\n",
        "\n",
        "print(\"---\")\n",
        "print(poem)\n",
        "print(\"---\")\n",
        "\n",
        "five = 10 - 2 + 3 - 6\n",
        "print(f\"This should be five: {five}\")\n",
        "\n",
        "def secret_formula(started):\n",
        "    jelly_beans = started * 500\n",
        "    jars = jelly_beans / 1000\n",
        "    crates = jars / 100\n",
        "    return jelly_beans, jars, crates\n",
        "\n",
        "start_point = 10000\n",
        "beans, jars, crates = secret_formula(start_point)\n",
        "\n",
        "# lembre-se de que essa é uma outra maneira de formatar uma string\n",
        "print(\"With a starting point of: {}\".format(start_point))\n",
        "# é como usar a string f\"\"\n",
        "print(f\"We'd have {beans} beans, {jars} jars, and {crates} crates.\")\n",
        "\n",
        "start_point = start_point / 10\n",
        "\n",
        "print(\"We can also do that this way:\")\n",
        "formula = secret_formula(start_point)\n",
        "# essa é uma maneira fácil de aplicar uma lista a uma string de formatação\n",
        "print(\"We'd have {} beans, {} jars, and {} crates.\".format(*formula))"
      ],
      "metadata": {
        "id": "ET-3kGDFFvjN"
      },
      "execution_count": null,
      "outputs": []
    },
    {
      "cell_type": "markdown",
      "source": [
        "# Exercício 28 - Desvios e Funções"
      ],
      "metadata": {
        "id": "r8xU18iLF4UK"
      }
    },
    {
      "cell_type": "code",
      "source": [
        "# EXERCÍCIO 28 - Desvios e Funções\n",
        "\n",
        "from sys import exit\n",
        "\n",
        "def sala_do_ouro():\n",
        "    print(\"Esta sala está cheia de ouro. Quanto você pega?\")\n",
        "    print(\"Digite um número.\")\n",
        "\n",
        "    escolha = input(\"> \")\n",
        "    if \"0\" in escolha or \"1\" in escolha:\n",
        "        quanto = int(escolha)\n",
        "    else:\n",
        "        morrer(\"Cara, aprenda a digitar um número.\")\n",
        "\n",
        "    if quanto < 50:\n",
        "        print(\"Legal, você não é ganancioso, você venceu!\")\n",
        "        exit(0)\n",
        "    else:\n",
        "        morrer(\"Seu ganancioso!\")\n",
        "\n",
        "def sala_do_urso():\n",
        "    print(\"Há um urso aqui.\")\n",
        "    print(\"O urso tem um pote de mel.\")\n",
        "    print(\"O urso gordo está na frente de outra porta.\")\n",
        "    print(\"O que você faz?\")\n",
        "    print(\"Opções: 'pegar mel', 'provocar urso'.\")\n",
        "    urso_movido = False\n",
        "\n",
        "    while True:\n",
        "        escolha = input(\"> \")\n",
        "\n",
        "        if escolha == \"pegar mel\":\n",
        "            morrer(\"O urso olha para você e arranca sua cara com uma patada.\")\n",
        "        elif escolha == \"provocar urso\" and not urso_movido:\n",
        "            print(\"O urso se moveu da porta.\")\n",
        "            print(\"Você pode 'abrir porta' agora.\")\n",
        "            urso_movido = True\n",
        "        elif escolha == \"provocar urso\" and urso_movido:\n",
        "            morrer(\"O urso fica puto e arranca sua perna.\")\n",
        "        elif escolha == \"abrir porta\" and urso_movido:\n",
        "            sala_do_ouro()\n",
        "            else:\n",
        "    print(\"Não entendi sua escolha. Tente novamente.\")\n",
        "\n",
        "def sala_do_cthulhu():\n",
        "    print(\"Aqui você vê o grande mal, Cthulhu.\")\n",
        "    print(\"Eeek, isso, seja lá o que for, olha para você e você enlouquece.\")\n",
        "    print(\"O que você faz?\")\n",
        "    print(\"Opções: 'foge', 'cabeça'.\")\n",
        "    escolha = input(\"> \")\n",
        "    if \"foge\" in escolha:\n",
        "        comecar()\n",
        "    elif \"cabeça\" in escolha:\n",
        "        morrer(\"Bem, isso foi gostoso!\")\n",
        "    else:\n",
        "        sala_do_cthulhu()\n",
        "\n",
        "def morrer(porque):\n",
        "    print(porque, \"Game over!\")\n",
        "    exit(0)\n",
        "\n",
        "def comecar():\n",
        "    print(\"Você está em uma sala escura.\")\n",
        "    print(\"Há uma porta a sua direita e à sua esquerda.\")\n",
        "    print(\"Qual você pega?\")\n",
        "    print(\"Opções: 'esquerda', 'direita'.\")\n",
        "    escolha = input(\"> \")\n",
        "\n",
        "    if escolha == \"esquerda\":\n",
        "        sala_do_urso()\n",
        "    elif escolha == \"direita\":\n",
        "        sala_do_cthulhu()\n",
        "    else:\n",
        "        morrer(\"Você tropeça pela sala até morrer de fome.\")\n",
        "\n",
        "comecar()"
      ],
      "metadata": {
        "id": "-HFc6fOQGEl_"
      },
      "execution_count": null,
      "outputs": []
    },
    {
      "cell_type": "markdown",
      "source": [
        "# Objeto de arquivo"
      ],
      "metadata": {
        "id": "yIwV3ocGsetw"
      }
    },
    {
      "cell_type": "markdown",
      "source": [
        "Um caminho absoluto especifica a localização de um arquivo ou diretório de forma completa, começando a partir da raiz do sistema de arquivos. Ele inclui todo o caminho necessário para acessar o arquivo, independentemente de onde você esteja no sistema.(não tem erro)\n",
        "Um caminho relativo é especificado em relação ao diretório em que você está no momento. Ou seja, ele não começa a partir da raiz, mas de um ponto de referência, como o diretório atual ou outro diretório específico.\n",
        "\n",
        "Para referenciar um objeto de arquivo, que não está no mesmo diretório, então será necessário referenciá-lo com caminho absoluto.\n",
        "Um objeto de arquivo serve para manipular um arquivo dentro de um código. Sua manipulação envolve a abertura (open()), seu acesso (leitura, escrita, append e etc) e por fim, o seu fechamento. (close())\n",
        "\n"
      ],
      "metadata": {
        "id": "rhu9Zn8Xq6H1"
      }
    },
    {
      "cell_type": "code",
      "source": [
        "arquivotal=open(texto.texto) #arquivo a ser executado no argumento. Nesse caso, está referenciado com caminho\n",
        "#variavel por estar no mesmo diretório.\n",
        "#o arquivo é referenciado, aberto com open e depois é definida a variável. Desse modo, pode-se manipular o objeto.\n",
        "#Objetivamente, a estrutura de referenciação envolve:\n",
        "variavel=open(arquivo, modo, codificação)\n",
        "#Exemplo\n",
        "def leituraarquivo(\"texto.txt\", \"r\", encoding=\"utf-8\")\n",
        "conteudo=arquivo.read() #leitura dele\n",
        "arquivo.close()#fechou\n",
        "return conteudo"
      ],
      "metadata": {
        "id": "tHuytAEPvPET"
      },
      "execution_count": null,
      "outputs": []
    },
    {
      "cell_type": "markdown",
      "source": [
        "Modos de manipulação desse objeto de arquivo.\n",
        "r- leitura\n",
        "a-adição no final de texto\n",
        "b - arquivo binário\n",
        "w- escrita\n",
        "t- texto"
      ],
      "metadata": {
        "id": "0UsLPpW-wXjl"
      }
    },
    {
      "cell_type": "markdown",
      "source": [
        "Metodos são funções aplicadas para determinados objetos.\n",
        "Ex: .Read() que só funciona para objetos tipo arquivo. Tal como .format() para objetos do tipo strig"
      ],
      "metadata": {
        "id": "_nM7UCUv0glN"
      }
    },
    {
      "cell_type": "code",
      "source": [
        ".split\n"
      ],
      "metadata": {
        "id": "KeMaZFVV46wX"
      },
      "execution_count": null,
      "outputs": []
    },
    {
      "cell_type": "code",
      "source": [
        "from sys import argv\n",
        "script,filename = argvtxt = open(filename)\n",
        "\n",
        "print(f\"here's your file{filename}:\")\n",
        "print(txt.read())\n",
        "\n",
        "print(\"Type the filename again:\")\n",
        "file_again = input(\">\")\n",
        "txt_again = open(file_again)\n",
        "print(txt_again.read())"
      ],
      "metadata": {
        "id": "DAX9fDfOACFj"
      },
      "execution_count": null,
      "outputs": []
    },
    {
      "cell_type": "code",
      "source": [
        "from sys import argv\n",
        "script, filename = argv\n",
        "print(f\"We're going to erase {filename}.\")\n",
        "print(\"If you don't want that, hit CTRL-C (^C).\")\n",
        "print(\"If you do want that, hit RETURN.\")\n",
        "input(\"?\")\n",
        "print(\"Opening the file...\")\n",
        "target = open(filename, 'w')\n",
        "print(\"Truncating the file. Goodbye!\")\n",
        "target.truncate()\n",
        "print(\"Now I'm going to ask you for three lines.\")\n",
        "line1 = input(\"line 1: \")\n",
        "line2 = input(\"line 2: \")\n",
        "line3 = input(\"line 3: \")\n",
        "print(\"I'm going to write these to the file.\")\n",
        "target.write(line1)\n",
        "target.write(\"\\n\")\n",
        "target.write(line2)\n",
        "target.write(\"\\n\")\n",
        "target.write(line3)\n",
        "target.write(\"\\n\")\n",
        "\n",
        "print(\"And finally, we close it.\")\n",
        "target.close()\n"
      ],
      "metadata": {
        "id": "cKF0YcpBAgpr"
      },
      "execution_count": null,
      "outputs": []
    }
  ]
}